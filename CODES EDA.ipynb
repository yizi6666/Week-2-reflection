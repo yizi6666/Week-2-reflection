# Scholarly Migration Dataset: Exploratory Data Analysis (EDA)

## Step 1: Import Libraries
import os
import pandas as pd
import matplotlib.pyplot as plt
import seaborn as sns

## Step 2: Load Dataset
# Path to the dataset (assuming it is in the `data` folder)
data_path = "../data/enriched_data.csv"

# Check if the file exists
if os.path.exists(data_path):
    data = pd.read_csv(data_path)
    print("Dataset loaded successfully!")
else:
    print("Dataset not found. Please ensure the file exists in the `data` folder.")

## Step 3: Inspect the Dataset
print("\nDataset Information:")
print(data.info())

print("\nFirst 5 Rows of the Dataset:")
print(data.head())

## Step 4: Basic Summary Statistics
print("\nSummary Statistics:")
print(data.describe())

## Step 5: Missing Values Analysis
print("\nMissing Values:")
print(data.isnull().sum())

## Step 6: Visualize Key Trends
# Check for numerical columns
numerical_cols = data.select_dtypes(include=["float64", "int64"]).columns

# Plot histograms for numerical columns
for col in numerical_cols:
    plt.figure(figsize=(8, 5))
    sns.histplot(data[col], kde=True, bins=30)
    plt.title(f"Distribution of {col}")
    plt.xlabel(col)
    plt.ylabel("Frequency")
    plt.show()

# Correlation Heatmap
plt.figure(figsize=(10, 8))
sns.heatmap(data.corr(), annot=True, cmap="coolwarm", fmt=".2f")
plt.title("Correlation Heatmap")
plt.show()

## Step 7: Country-Specific Migration Trends
if "country" in data.columns and "year" in data.columns and "migration_count" in data.columns:
    top_countries = data.groupby("country")["migration_count"].sum().sort_values(ascending=False).head(10)
    print("\nTop 10 Countries by Migration Count:")
    print(top_countries)

    # Plot top countries
    top_countries.plot(kind="bar", figsize=(10, 5), title="Top 10 Countries by Migration Count")
    plt.xlabel("Country")
    plt.ylabel("Migration Count")
    plt.xticks(rotation=45)
    plt.show()
else:
    print("Columns `country`, `year`, or `migration_count` are missing. Please verify the dataset structure.")
