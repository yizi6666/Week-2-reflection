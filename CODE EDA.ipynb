{
 "cells": [
  {
   "cell_type": "code",
   "execution_count": null,
   "id": "3bcfb2df",
   "metadata": {},
   "outputs": [],
   "source": [
    "import pandas as pd\n",
    "print('Hello, Jupyter Notebook!')"
   ]
  }
 ],
 "metadata": {
  "kernelspec": {
   "display_name": "Python 3",
   "language": "python",
   "name": "python3"
  },
  "language_info": {
   "codemirror_mode": {
    "name": "ipython",
    "version": 3
   },
   "file_extension": ".py",
   "mimetype": "text/x-python",
   "name": "python",
   "nbconvert_exporter": "python",
   "pygments_lexer": "ipython3",
   "version": "3.9.7"
  }
 },
 "nbformat": 4,
 "nbformat_minor": 5
}
import pandas as pd
import requests
import zipfile
import io

# Zenodo dataset URL (ZIP file)
dataset_url = "https://zenodo.org/record/11145735/files/Global-flows-and-rates-of-international-migration-of-scholars-2024_v1.1.zip"

# Online download and extraction
print("Downloading dataset from Zenodo...")
response = requests.get(dataset_url)

if response.status_code == 200:
    print("Download successful! Extracting the ZIP file...")
    
    # Use io.BytesIO to read the ZIP file content directly
    with zipfile.ZipFile(io.BytesIO(response.content)) as z:
        # List files in the ZIP archive
        print("Files in the archive:", z.namelist())
        
        # Assuming there's a CSV file inside the ZIP (adjust filename as needed)
        csv_filename = "Global-flows-and-rates-of-international-migration-of-scholars.csv"  # Replace with actual CSV file name in the ZIP
        if csv_filename in z.namelist():
            # Read the CSV file into a pandas DataFrame
            with z.open(csv_filename) as f:
                data = pd.read_csv(f)
                print("Dataset loaded successfully!")
        else:
            raise FileNotFoundError(f"Expected CSV file '{csv_filename}' not found in the ZIP archive.")
else:
    raise Exception(f"Failed to download dataset. HTTP Status Code: {response.status_code}")
