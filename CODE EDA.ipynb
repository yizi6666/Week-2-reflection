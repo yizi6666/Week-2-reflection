import pandas as pd
import requests
import io

# Zenodo 数据集的 URL
dataset_url = "https://zenodo.org/record/11145735/files/Global-flows-and-rates-of-international-migration-of-scholars-2024_v1.1.zip" 

# 在线加载数据
print("Downloading dataset from Zenodo...")
response = requests.get(dataset_url)

if response.status_code == 200:
    # 将内容读取为 pandas DataFrame
    data = pd.read_csv(io.StringIO(response.text))
    print("Dataset loaded successfully!")
else:
    raise Exception(f"Failed to download dataset. HTTP Status Code: {response.status_code}")

# 基本 EDA 操作
print("\nDataset Information:")
print(data.info())

print("\nFirst 5 Rows of the Dataset:")
print(data.head())

print("\nSummary Statistics:")
print(data.describe())
