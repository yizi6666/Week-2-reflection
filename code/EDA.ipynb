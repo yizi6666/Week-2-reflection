{
 "cells": [
  {
   "cell_type": "code",
   "execution_count": null,
   "id": "eda-step-1",
   "metadata": {},
   "outputs": [],
   "source": [
    "import pandas as pd\n",
    "\n",
    "# 数据文件路径\n",
    "data_path = \"dfcountries.csv\"  # 替换为你的实际文件名\n",
    "\n",
    "# 加载数据\n",
    "data = pd.read_csv(data_path)\n",
    "\n",
    "print(\"Dataset loaded successfully!\")\n",
    "print(data.head())"
   ]
  }
 ],
 "metadata": {
  "kernelspec": {
   "display_name": "Python 3",
   "language": "python",
   "name": "python3"
  },
  "language_info": {
   "name": "python",
   "version": "3.9"
  }
 },
 "nbformat": 4,
 "nbformat_minor": 5
}
