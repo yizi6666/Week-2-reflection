{
 "cells": [
  {
   "cell_type": "markdown",
   "metadata": {},
   "source": [
    "# Exploratory Data Analysis (EDA)\n",
    "This notebook performs basic EDA on the `dfcountries.csv` dataset located in the `data` folder."
   ]
  },
  {
   "cell_type": "code",
   "execution_count": null,
   "id": "eda-load-data",
   "metadata": {},
   "outputs": [],
   "source": [
    "import pandas as pd\n",
    "import matplotlib.pyplot as plt\n",
    "import seaborn as sns\n",
    "\n",
    "# 数据文件路径\n",
    "data_path = \"../data/dfcountries.csv\"  # 相对路径，指向 data 文件夹中的数据文件\n",
    "\n",
    "# Step 1: 加载数据\n",
    "try:\n",
    "    data = pd.read_csv(data_path)\n",
    "    print(\"Dataset loaded successfully!\")\n",
    "    print(\"\\nFirst 5 Rows of the Dataset:\")\n",
    "    print(data.head())\n",
    "except FileNotFoundError:\n",
    "    print(f\"Error: File not found at {data_path}. Please check the file path and name.\")"
   ]
  },
  {
   "cell_type": "code",
   "execution_count": null,
   "id": "eda-basic-info",
   "metadata": {},
   "outputs": [],
   "source": [
    "# Step 2: 查看数据基本信息\n",
    "print(\"\\nDataset Information:\")\n",
    "print(data.info())\n",
    "\n",
    "# Step 3: 检查缺失值\n",
    "print(\"\\nMissing Values:\")\n",
    "print(data.isnull().sum())"
   ]
  },
  {
   "cell_type": "code",
   "execution_count": null,
   "id": "eda-statistics",
   "metadata": {},
   "outputs": [],
   "source": [
    "# Step 4: 基本统计信息\n",
    "print(\"\\nSummary Statistics (for numeric columns):\")\n",
    "print(data.describe())"
   ]
  },
  {
   "cell_type": "code",
   "execution_count": null,
   "id": "eda-visualizations",
   "metadata": {},
   "outputs": [],
   "source": [
    "# Step 5: 数据可视化\n",
    "\n",
    "# 5.1 某一数值列的分布 (经度 longitude)\n",
    "if 'longitude' in data.columns:\n",
    "    plt.figure(figsize=(8, 5))\n",
    "    sns.histplot(data['longitude'].dropna(), kde=True)\n",
    "    plt.title(\"Distribution of Longitude\")\n",
    "    plt.xlabel(\"Longitude\")\n",
    "    plt.ylabel(\"Frequency\")\n",
    "    plt.show()\n",
    "\n",
    "# 5.2 某一数值列的分布 (纬度 latitude)\n",
    "if 'latitude' in data.columns:\n",
    "    plt.figure(figsize=(8, 5))\n",
    "    sns.histplot(data['latitude'].dropna(), kde=True)\n",
    "    plt.title(\"Distribution of Latitude\")\n",
    "    plt.xlabel(\"Latitude\")\n",
    "    plt.ylabel(\"Frequency\")\n",
    "    plt.show()\n",
    "\n",
    "# 5.3 按地区分类统计收入水平 (incomeLevel.value)\n",
    "if 'region_value' in data.columns and 'incomeLevel.value' in data.columns:\n",
    "    plt.figure(figsize=(12, 6))\n",
    "    region_income_counts = data.groupby(['region_value', 'incomeLevel.value']).size().unstack()\n",
    "    region_income_counts.plot(kind=\"bar\", stacked=True, figsize=(12, 6))\n",
    "    plt.title(\"Income Levels by Region\")\n",
    "    plt.xlabel(\"Region\")\n",
    "    plt.ylabel(\"Count\")\n",
    "    plt.xticks(rotation=45)\n",
    "    plt.legend(title=\"Income Level\", loc=\"upper right\")\n",
    "    plt.show()\n",
    "\n",
    "# Step 6: 相关性分析\n",
    "numeric_data = data.select_dtypes(include=[\"float64\", \"int64\"])\n",
    "if not numeric_data.empty:\n",
    "    plt.figure(figsize=(10, 8))\n",
    "    sns.heatmap(numeric_data.corr(), annot=True, cmap=\"coolwarm\", fmt=\".2f\")\n",
    "    plt.title(\"Correlation Heatmap (Numeric Data)\")\n",
    "    plt.show()\n",
    "else:\n",
    "    print(\"No numeric columns found for correlation analysis.\")"
   ]
  }
 ],
 "metadata": {
  "kernelspec": {
   "display_name": "Python 3",
   "language": "python",
   "name": "python3"
  },
  "language_info": {
   "codemirror_mode": {
    "name": "ipython",
    "version": 3
   },
   "file_extension": ".py",
   "mimetype": "text/x-python",
   "name": "python",
   "nbconvert_exporter": "python",
   "pygments_lexer": "ipython3",
   "version": "3.9.7"
  }
 },
 "nbformat": 4,
 "nbformat_minor": 5
}
