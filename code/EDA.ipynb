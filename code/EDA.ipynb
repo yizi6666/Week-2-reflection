import pandas as pd
import matplotlib.pyplot as plt
import seaborn as sns

# 数据文件路径
data_path = "../data/dfcountries.csv"  # 确保文件路径正确

# 加载数据
try:
    data = pd.read_csv(data_path)
    print("Dataset loaded successfully!")
    print("\nFirst 5 Rows of the Dataset:")
    print(data.head())
except FileNotFoundError:
    print(f"Error: File not found at {data_path}. Please check the file path and name.")

# 基本数据结构信息
print("\nDataset Information:")
print(data.info())

# 检查缺失值
print("\nMissing Values:")
print(data.isnull().sum())

# 基本统计信息
print("\nSummary Statistics:")
print(data.describe())

# 数据分布可视化（以某个数值列为例，替换 'column_name' 为实际列名）
plt.figure(figsize=(8, 5))
sns.histplot(data['column_name'], kde=True)  # 替换 "column_name" 为你的实际列名
plt.title("Distribution of column_name")
plt.xlabel("column_name")
plt.ylabel("Frequency")
plt.show()

# 数据相关性热图（如果有数值列）
if not data.select_dtypes(include=["float64", "int64"]).empty:
    plt.figure(figsize=(10, 8))
    sns.heatmap(data.corr(), annot=True, cmap="coolwarm", fmt=".2f")
    plt.title("Correlation Heatmap")
    plt.show()
else:
    print("No numeric columns found for correlation heatmap.")
